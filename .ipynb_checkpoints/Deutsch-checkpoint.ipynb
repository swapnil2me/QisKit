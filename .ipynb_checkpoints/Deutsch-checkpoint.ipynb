{
 "cells": [
  {
   "cell_type": "code",
   "execution_count": 1,
   "metadata": {},
   "outputs": [],
   "source": [
    "from qiskit import *\n",
    "import matplotlib.pyplot as plt\n",
    "import numpy as np"
   ]
  },
  {
   "cell_type": "code",
   "execution_count": 2,
   "metadata": {},
   "outputs": [],
   "source": [
    "backend = Aer.get_backend('qasm_simulator')"
   ]
  },
  {
   "cell_type": "code",
   "execution_count": 3,
   "metadata": {},
   "outputs": [],
   "source": [
    "bb1 = QuantumCircuit(2)\n",
    "bb2 = QuantumCircuit(2)\n",
    "bb3 = QuantumCircuit(2)\n",
    "bb4 = QuantumCircuit(2)"
   ]
  },
  {
   "cell_type": "code",
   "execution_count": 4,
   "metadata": {},
   "outputs": [
    {
     "data": {
      "text/html": [
       "<pre style=\"word-wrap: normal;white-space: pre;background: #fff0;line-height: 1.1;font-family: &quot;Courier New&quot;,Courier,monospace\">     ┌───┐\n",
       "q_0: ┤ X ├\n",
       "     └───┘\n",
       "q_1: ─────\n",
       "          </pre>"
      ],
      "text/plain": [
       "     ┌───┐\n",
       "q_0: ┤ X ├\n",
       "     └───┘\n",
       "q_1: ─────\n",
       "          "
      ]
     },
     "execution_count": 4,
     "metadata": {},
     "output_type": "execute_result"
    }
   ],
   "source": [
    "bb2.x([0])\n",
    "bb2.draw()"
   ]
  },
  {
   "cell_type": "code",
   "execution_count": 5,
   "metadata": {},
   "outputs": [
    {
     "data": {
      "text/html": [
       "<pre style=\"word-wrap: normal;white-space: pre;background: #fff0;line-height: 1.1;font-family: &quot;Courier New&quot;,Courier,monospace\">     \n",
       "q_0: \n",
       "     \n",
       "q_1: \n",
       "     </pre>"
      ],
      "text/plain": [
       "     \n",
       "q_0: \n",
       "     \n",
       "q_1: \n",
       "     "
      ]
     },
     "execution_count": 5,
     "metadata": {},
     "output_type": "execute_result"
    }
   ],
   "source": [
    "bb1.draw()"
   ]
  },
  {
   "cell_type": "code",
   "execution_count": 6,
   "metadata": {},
   "outputs": [
    {
     "data": {
      "text/html": [
       "<pre style=\"word-wrap: normal;white-space: pre;background: #fff0;line-height: 1.1;font-family: &quot;Courier New&quot;,Courier,monospace\">     ┌───┐\n",
       "q_0: ┤ X ├\n",
       "     └─┬─┘\n",
       "q_1: ──■──\n",
       "          </pre>"
      ],
      "text/plain": [
       "     ┌───┐\n",
       "q_0: ┤ X ├\n",
       "     └─┬─┘\n",
       "q_1: ──■──\n",
       "          "
      ]
     },
     "execution_count": 6,
     "metadata": {},
     "output_type": "execute_result"
    }
   ],
   "source": [
    "bb3.cx(1, 0)\n",
    "bb3.draw()"
   ]
  },
  {
   "cell_type": "code",
   "execution_count": 7,
   "metadata": {},
   "outputs": [
    {
     "data": {
      "text/html": [
       "<pre style=\"word-wrap: normal;white-space: pre;background: #fff0;line-height: 1.1;font-family: &quot;Courier New&quot;,Courier,monospace\">     ┌───┐┌───┐\n",
       "q_0: ┤ X ├┤ X ├\n",
       "     └─┬─┘└───┘\n",
       "q_1: ──■───────\n",
       "               </pre>"
      ],
      "text/plain": [
       "     ┌───┐┌───┐\n",
       "q_0: ┤ X ├┤ X ├\n",
       "     └─┬─┘└───┘\n",
       "q_1: ──■───────\n",
       "               "
      ]
     },
     "execution_count": 7,
     "metadata": {},
     "output_type": "execute_result"
    }
   ],
   "source": [
    "bb4.cx(1,0)\n",
    "bb4.x([0])\n",
    "bb4.draw()"
   ]
  },
  {
   "cell_type": "code",
   "execution_count": 8,
   "metadata": {},
   "outputs": [],
   "source": [
    "bb1.name = 'BlackBox1'\n",
    "bb2.name = 'BlackBox2'\n",
    "bb3.name = 'BlackBox3'\n",
    "bb4.name = 'BlackBox4'"
   ]
  },
  {
   "cell_type": "code",
   "execution_count": 9,
   "metadata": {},
   "outputs": [
    {
     "data": {
      "text/plain": [
       "<qiskit.circuit.gate.Gate at 0x22381b69430>"
      ]
     },
     "execution_count": 9,
     "metadata": {},
     "output_type": "execute_result"
    }
   ],
   "source": [
    "bb1.to_gate()\n",
    "bb2.to_gate()\n",
    "bb3.to_gate()\n",
    "bb4.to_gate()"
   ]
  },
  {
   "cell_type": "code",
   "execution_count": 10,
   "metadata": {},
   "outputs": [],
   "source": [
    "dc1 = QuantumCircuit(2,2,name='Ckt1')\n",
    "dc2 = QuantumCircuit(2,2,name='Ckt2')\n",
    "dc3 = QuantumCircuit(2,2,name='Ckt3')\n",
    "dc4 = QuantumCircuit(2,2,name='Ckt4')"
   ]
  },
  {
   "cell_type": "code",
   "execution_count": 11,
   "metadata": {},
   "outputs": [
    {
     "data": {
      "text/html": [
       "<pre style=\"word-wrap: normal;white-space: pre;background: #fff0;line-height: 1.1;font-family: &quot;Courier New&quot;,Courier,monospace\">     ┌───┐\n",
       "q_0: ┤ X ├\n",
       "     ├───┤\n",
       "q_1: ┤ X ├\n",
       "     └───┘\n",
       "c: 2/═════\n",
       "          </pre>"
      ],
      "text/plain": [
       "     ┌───┐\n",
       "q_0: ┤ X ├\n",
       "     ├───┤\n",
       "q_1: ┤ X ├\n",
       "     └───┘\n",
       "c: 2/═════\n",
       "          "
      ]
     },
     "execution_count": 11,
     "metadata": {},
     "output_type": "execute_result"
    }
   ],
   "source": [
    "dc1.x([0,1])\n",
    "dc2.x([0,1])\n",
    "dc3.x([0,1])\n",
    "dc4.x([0,1])\n",
    "\n",
    "dc1.draw()"
   ]
  },
  {
   "cell_type": "code",
   "execution_count": 12,
   "metadata": {},
   "outputs": [
    {
     "data": {
      "text/html": [
       "<pre style=\"word-wrap: normal;white-space: pre;background: #fff0;line-height: 1.1;font-family: &quot;Courier New&quot;,Courier,monospace\">     ┌───┐┌───┐\n",
       "q_0: ┤ X ├┤ H ├\n",
       "     ├───┤├───┤\n",
       "q_1: ┤ X ├┤ H ├\n",
       "     └───┘└───┘\n",
       "c: 2/══════════\n",
       "               </pre>"
      ],
      "text/plain": [
       "     ┌───┐┌───┐\n",
       "q_0: ┤ X ├┤ H ├\n",
       "     ├───┤├───┤\n",
       "q_1: ┤ X ├┤ H ├\n",
       "     └───┘└───┘\n",
       "c: 2/══════════\n",
       "               "
      ]
     },
     "execution_count": 12,
     "metadata": {},
     "output_type": "execute_result"
    }
   ],
   "source": [
    "dc1.h([0,1])\n",
    "dc2.h([0,1])\n",
    "dc3.h([0,1])\n",
    "dc4.h([0,1])\n",
    "\n",
    "dc1.draw()"
   ]
  },
  {
   "cell_type": "code",
   "execution_count": 13,
   "metadata": {},
   "outputs": [
    {
     "data": {
      "text/html": [
       "<pre style=\"word-wrap: normal;white-space: pre;background: #fff0;line-height: 1.1;font-family: &quot;Courier New&quot;,Courier,monospace\">     ┌───┐┌───┐┌────────────┐\n",
       "q_0: ┤ X ├┤ H ├┤0           ├\n",
       "     ├───┤├───┤│  BlackBox1 │\n",
       "q_1: ┤ X ├┤ H ├┤1           ├\n",
       "     └───┘└───┘└────────────┘\n",
       "c: 2/════════════════════════\n",
       "                             </pre>"
      ],
      "text/plain": [
       "     ┌───┐┌───┐┌────────────┐\n",
       "q_0: ┤ X ├┤ H ├┤0           ├\n",
       "     ├───┤├───┤│  BlackBox1 │\n",
       "q_1: ┤ X ├┤ H ├┤1           ├\n",
       "     └───┘└───┘└────────────┘\n",
       "c: 2/════════════════════════\n",
       "                             "
      ]
     },
     "execution_count": 13,
     "metadata": {},
     "output_type": "execute_result"
    }
   ],
   "source": [
    "dc1.append(bb1,[0,1])\n",
    "dc2.append(bb2,[0,1])\n",
    "dc3.append(bb3,[0,1])\n",
    "dc4.append(bb4,[0,1])\n",
    "\n",
    "dc1.draw()"
   ]
  },
  {
   "cell_type": "code",
   "execution_count": 14,
   "metadata": {},
   "outputs": [
    {
     "data": {
      "text/html": [
       "<pre style=\"word-wrap: normal;white-space: pre;background: #fff0;line-height: 1.1;font-family: &quot;Courier New&quot;,Courier,monospace\">     ┌───┐┌───┐┌────────────┐┌───┐\n",
       "q_0: ┤ X ├┤ H ├┤0           ├┤ H ├\n",
       "     ├───┤├───┤│  BlackBox1 │├───┤\n",
       "q_1: ┤ X ├┤ H ├┤1           ├┤ H ├\n",
       "     └───┘└───┘└────────────┘└───┘\n",
       "c: 2/═════════════════════════════\n",
       "                                  </pre>"
      ],
      "text/plain": [
       "     ┌───┐┌───┐┌────────────┐┌───┐\n",
       "q_0: ┤ X ├┤ H ├┤0           ├┤ H ├\n",
       "     ├───┤├───┤│  BlackBox1 │├───┤\n",
       "q_1: ┤ X ├┤ H ├┤1           ├┤ H ├\n",
       "     └───┘└───┘└────────────┘└───┘\n",
       "c: 2/═════════════════════════════\n",
       "                                  "
      ]
     },
     "execution_count": 14,
     "metadata": {},
     "output_type": "execute_result"
    }
   ],
   "source": [
    "dc1.h([0,1])\n",
    "dc2.h([0,1])\n",
    "dc3.h([0,1])\n",
    "dc4.h([0,1])\n",
    "\n",
    "dc1.draw()"
   ]
  },
  {
   "cell_type": "code",
   "execution_count": 15,
   "metadata": {},
   "outputs": [
    {
     "data": {
      "text/html": [
       "<pre style=\"word-wrap: normal;white-space: pre;background: #fff0;line-height: 1.1;font-family: &quot;Courier New&quot;,Courier,monospace\">     ┌───┐┌───┐┌────────────┐┌───┐┌─┐   \n",
       "q_0: ┤ X ├┤ H ├┤0           ├┤ H ├┤M├───\n",
       "     ├───┤├───┤│  BlackBox1 │├───┤└╥┘┌─┐\n",
       "q_1: ┤ X ├┤ H ├┤1           ├┤ H ├─╫─┤M├\n",
       "     └───┘└───┘└────────────┘└───┘ ║ └╥┘\n",
       "c: 2/══════════════════════════════╩══╩═\n",
       "                                   0  1 </pre>"
      ],
      "text/plain": [
       "     ┌───┐┌───┐┌────────────┐┌───┐┌─┐   \n",
       "q_0: ┤ X ├┤ H ├┤0           ├┤ H ├┤M├───\n",
       "     ├───┤├───┤│  BlackBox1 │├───┤└╥┘┌─┐\n",
       "q_1: ┤ X ├┤ H ├┤1           ├┤ H ├─╫─┤M├\n",
       "     └───┘└───┘└────────────┘└───┘ ║ └╥┘\n",
       "c: 2/══════════════════════════════╩══╩═\n",
       "                                   0  1 "
      ]
     },
     "execution_count": 15,
     "metadata": {},
     "output_type": "execute_result"
    }
   ],
   "source": [
    "dc1.measure([0,1],[0,1])\n",
    "dc2.measure([0,1],[0,1])\n",
    "dc3.measure([0,1],[0,1])\n",
    "dc4.measure([0,1],[0,1])\n",
    "\n",
    "dc1.draw()"
   ]
  },
  {
   "cell_type": "code",
   "execution_count": 21,
   "metadata": {},
   "outputs": [],
   "source": [
    "from qiskit.visualization import plot_histogram"
   ]
  },
  {
   "cell_type": "code",
   "execution_count": 24,
   "metadata": {},
   "outputs": [
    {
     "data": {
      "image/png": "[encoded data removed]",
      "text/plain": [
       "<Figure size 504x360 with 1 Axes>"
      ]
     },
     "execution_count": 24,
     "metadata": {},
     "output_type": "execute_result"
    }
   ],
   "source": [
    "job = execute(dc1,backend,shots=100)\n",
    "result = job.result()\n",
    "counts = result.get_counts()\n",
    "\n",
    "plot_histogram(counts)"
   ]
  },
  {
   "cell_type": "code",
   "execution_count": 17,
   "metadata": {},
   "outputs": [
    {
     "data": {
      "text/plain": [
       "{'11': 10}"
      ]
     },
     "execution_count": 17,
     "metadata": {},
     "output_type": "execute_result"
    }
   ],
   "source": [
    "job = execute(dc2,backend,shots=10)\n",
    "result = job.result()\n",
    "result.get_counts()"
   ]
  },
  {
   "cell_type": "code",
   "execution_count": 18,
   "metadata": {},
   "outputs": [
    {
     "data": {
      "text/plain": [
       "{'01': 10}"
      ]
     },
     "execution_count": 18,
     "metadata": {},
     "output_type": "execute_result"
    }
   ],
   "source": [
    "job = execute(dc3,backend,shots=10)\n",
    "result = job.result()\n",
    "result.get_counts()"
   ]
  },
  {
   "cell_type": "code",
   "execution_count": 19,
   "metadata": {},
   "outputs": [
    {
     "data": {
      "text/plain": [
       "{'01': 10}"
      ]
     },
     "execution_count": 19,
     "metadata": {},
     "output_type": "execute_result"
    }
   ],
   "source": [
    "job = execute(dc4,backend,shots=10)\n",
    "result = job.result()\n",
    "result.get_counts()"
   ]
  },
  {
   "cell_type": "code",
   "execution_count": 28,
   "metadata": {},
   "outputs": [
    {
     "data": {
      "text/plain": [
       "True"
      ]
     },
     "execution_count": 28,
     "metadata": {},
     "output_type": "execute_result"
    }
   ],
   "source": []
  },
  {
   "cell_type": "code",
   "execution_count": null,
   "metadata": {},
   "outputs": [],
   "source": []
  }
 ],
 "metadata": {
  "kernelspec": {
   "display_name": "Python 3",
   "language": "python",
   "name": "python3"
  },
  "language_info": {
   "codemirror_mode": {
    "name": "ipython",
    "version": 3
   },
   "file_extension": ".py",
   "mimetype": "text/x-python",
   "name": "python",
   "nbconvert_exporter": "python",
   "pygments_lexer": "ipython3",
   "version": "3.8.3"
  }
 },
 "nbformat": 4,
 "nbformat_minor": 4
}
